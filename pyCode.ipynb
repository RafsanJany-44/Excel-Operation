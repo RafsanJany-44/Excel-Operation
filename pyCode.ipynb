{
  "nbformat": 4,
  "nbformat_minor": 0,
  "metadata": {
    "colab": {
      "name": "pyCode.ipynb",
      "provenance": [],
      "authorship_tag": "ABX9TyN3JI0ipGMNuHj5fzE5fpPL",
      "include_colab_link": true
    },
    "kernelspec": {
      "name": "python3",
      "display_name": "Python 3"
    },
    "language_info": {
      "name": "python"
    }
  },
  "cells": [
    {
      "cell_type": "markdown",
      "metadata": {
        "id": "view-in-github",
        "colab_type": "text"
      },
      "source": [
        "<a href=\"https://colab.research.google.com/github/RafsanJany-44/Excel-Operation/blob/main/pyCode.ipynb\" target=\"_parent\"><img src=\"https://colab.research.google.com/assets/colab-badge.svg\" alt=\"Open In Colab\"/></a>"
      ]
    },
    {
      "cell_type": "code",
      "metadata": {
        "id": "fprLVfaPr-O3"
      },
      "source": [
        "!unzip '/content/eeg analysis result.zip'"
      ],
      "execution_count": null,
      "outputs": []
    },
    {
      "cell_type": "code",
      "metadata": {
        "id": "vUodcjIOsSdS"
      },
      "source": [
        "!unzip '/content/sleep_scooring_xlsx.zip'"
      ],
      "execution_count": null,
      "outputs": []
    },
    {
      "cell_type": "code",
      "metadata": {
        "id": "ReFscf67zDzb"
      },
      "source": [
        "!rm -rf \"/content/content\""
      ],
      "execution_count": 20,
      "outputs": []
    },
    {
      "cell_type": "code",
      "metadata": {
        "id": "6zyVUYDQsg3_",
        "outputId": "5de0052a-c862-4a3d-d19f-adaa2b47e95c",
        "colab": {
          "base_uri": "https://localhost:8080/"
        }
      },
      "source": [
        "!pip install xlutils"
      ],
      "execution_count": 3,
      "outputs": [
        {
          "output_type": "stream",
          "name": "stdout",
          "text": [
            "Collecting xlutils\n",
            "  Downloading xlutils-2.0.0-py2.py3-none-any.whl (55 kB)\n",
            "\u001b[?25l\r\u001b[K     |██████                          | 10 kB 24.9 MB/s eta 0:00:01\r\u001b[K     |████████████                    | 20 kB 28.8 MB/s eta 0:00:01\r\u001b[K     |█████████████████▉              | 30 kB 21.9 MB/s eta 0:00:01\r\u001b[K     |███████████████████████▉        | 40 kB 18.2 MB/s eta 0:00:01\r\u001b[K     |█████████████████████████████▊  | 51 kB 8.6 MB/s eta 0:00:01\r\u001b[K     |████████████████████████████████| 55 kB 2.8 MB/s \n",
            "\u001b[?25hRequirement already satisfied: xlrd>=0.7.2 in /usr/local/lib/python3.7/dist-packages (from xlutils) (1.1.0)\n",
            "Requirement already satisfied: xlwt>=0.7.4 in /usr/local/lib/python3.7/dist-packages (from xlutils) (1.3.0)\n",
            "Installing collected packages: xlutils\n",
            "Successfully installed xlutils-2.0.0\n"
          ]
        }
      ]
    },
    {
      "cell_type": "code",
      "metadata": {
        "id": "BMg8bC-haUkH",
        "outputId": "b8ee1b84-106d-4f04-802f-7084b901f65d",
        "colab": {
          "base_uri": "https://localhost:8080/",
          "height": 256
        }
      },
      "source": [
        "def never_give_up(fo):\n",
        "  import xlwt\n",
        "  from xlwt import Workbook\n",
        "  wb = Workbook()\n",
        "  sheet1 = wb.add_sheet('Sheet 1')\n",
        "  index=1\n",
        "  types=['N1','N2','N3','R','W']\n",
        "  f=open('/content/sleep_scooring_txt/'+fo+'.txt',\"r\")\n",
        "  lines=f.readlines()\n",
        "  for x in lines:\n",
        "      v=(x.split(' ')[6])\n",
        "      if v[:-1] in types:\n",
        "        sheet1.write(index, 0, v[:-1])\n",
        "        index=index+1\n",
        "  f.close()\n",
        "  wb.save('/content/sleep_scooring_xlsx/'+fo+'.xlsx')\n",
        "\n",
        "\n",
        "\n",
        "for i in range(1,10):\n",
        "  print(\"Working on : SN00\"+str(i))\n",
        "  never_give_up(\"SN00\"+str(i)+\"_sleepscoring\")\n",
        "for i in range(10,100):\n",
        "  print(\"Working on : SN00\"+str(i))\n",
        "  never_give_up(\"SN0\"+str(i)+\"_sleepscoring\")\n",
        "for i in range(100,155):\n",
        "  print(\"Working on : SN00\"+str(i))\n",
        "  never_give_up(\"SN\"+str(i)+\"_sleepscoring\")"
      ],
      "execution_count": 4,
      "outputs": [
        {
          "output_type": "stream",
          "name": "stdout",
          "text": [
            "Working on : SN001\n"
          ]
        },
        {
          "output_type": "error",
          "ename": "NameError",
          "evalue": "ignored",
          "traceback": [
            "\u001b[0;31m---------------------------------------------------------------------------\u001b[0m",
            "\u001b[0;31mNameError\u001b[0m                                 Traceback (most recent call last)",
            "\u001b[0;32m<ipython-input-4-53fbb69fbbfd>\u001b[0m in \u001b[0;36m<module>\u001b[0;34m()\u001b[0m\n\u001b[1;32m     20\u001b[0m \u001b[0;32mfor\u001b[0m \u001b[0mi\u001b[0m \u001b[0;32min\u001b[0m \u001b[0mrange\u001b[0m\u001b[0;34m(\u001b[0m\u001b[0;36m1\u001b[0m\u001b[0;34m,\u001b[0m\u001b[0;36m10\u001b[0m\u001b[0;34m)\u001b[0m\u001b[0;34m:\u001b[0m\u001b[0;34m\u001b[0m\u001b[0;34m\u001b[0m\u001b[0m\n\u001b[1;32m     21\u001b[0m   \u001b[0mprint\u001b[0m\u001b[0;34m(\u001b[0m\u001b[0;34m\"Working on : SN00\"\u001b[0m\u001b[0;34m+\u001b[0m\u001b[0mstr\u001b[0m\u001b[0;34m(\u001b[0m\u001b[0mi\u001b[0m\u001b[0;34m)\u001b[0m\u001b[0;34m)\u001b[0m\u001b[0;34m\u001b[0m\u001b[0;34m\u001b[0m\u001b[0m\n\u001b[0;32m---> 22\u001b[0;31m   \u001b[0mnever_give_up\u001b[0m\u001b[0;34m(\u001b[0m\u001b[0;34m\"SN00\"\u001b[0m\u001b[0;34m+\u001b[0m\u001b[0mstr\u001b[0m\u001b[0;34m(\u001b[0m\u001b[0mj\u001b[0m\u001b[0;34m)\u001b[0m\u001b[0;34m+\u001b[0m\u001b[0;34m\"_sleepscoring\"\u001b[0m\u001b[0;34m)\u001b[0m\u001b[0;34m\u001b[0m\u001b[0;34m\u001b[0m\u001b[0m\n\u001b[0m\u001b[1;32m     23\u001b[0m \u001b[0;32mfor\u001b[0m \u001b[0mi\u001b[0m \u001b[0;32min\u001b[0m \u001b[0mrange\u001b[0m\u001b[0;34m(\u001b[0m\u001b[0;36m10\u001b[0m\u001b[0;34m,\u001b[0m\u001b[0;36m100\u001b[0m\u001b[0;34m)\u001b[0m\u001b[0;34m:\u001b[0m\u001b[0;34m\u001b[0m\u001b[0;34m\u001b[0m\u001b[0m\n\u001b[1;32m     24\u001b[0m   \u001b[0mprint\u001b[0m\u001b[0;34m(\u001b[0m\u001b[0;34m\"Working on : SN00\"\u001b[0m\u001b[0;34m+\u001b[0m\u001b[0mstr\u001b[0m\u001b[0;34m(\u001b[0m\u001b[0mi\u001b[0m\u001b[0;34m)\u001b[0m\u001b[0;34m)\u001b[0m\u001b[0;34m\u001b[0m\u001b[0;34m\u001b[0m\u001b[0m\n",
            "\u001b[0;31mNameError\u001b[0m: name 'j' is not defined"
          ]
        }
      ]
    },
    {
      "cell_type": "code",
      "metadata": {
        "id": "Vz_z74EDsiKI"
      },
      "source": [
        "def raf(subject):\n",
        "  import xlwt\n",
        "  import xlrd\n",
        "  from xlutils.copy import copy\n",
        "  \n",
        "  rb = xlrd.open_workbook('EEG_HMC_FeatureExtraction.xlsx')\n",
        "  wb2 = copy(rb)\n",
        "  w_sheet2 = wb2.get_sheet(0)\n",
        "\n",
        "  next_index = xlrd.open_workbook(\"/content/EEG_HMC_FeatureExtraction.xlsx\").sheet_by_index(0).nrows\n",
        "  sheet4 = xlrd.open_workbook(\"/content/sleep_scooring_xlsx/\"+subject+\"_sleepscoring.xlsx\").sheet_by_index(0)\n",
        "\n",
        "  wb = xlrd.open_workbook(\"/content/eeg analysis result/\"+subject+\"_CH1_F4.xls\")\n",
        "  sheet = wb.sheet_by_index(0)\n",
        "  row=sheet.nrows\n",
        "  col=sheet.ncols\n",
        "\n",
        "\n",
        "  #subject, epoc, sleeping score\n",
        "  i=next_index\n",
        "  l=1\n",
        "  for j in range(8,row):\n",
        "    if sheet.cell_value(j, 0)=='':\n",
        "        break\n",
        "    w_sheet2.write(i,0,subject)\n",
        "    w_sheet2.write(i,1,sheet4.cell_value(l, 0))\n",
        "    w_sheet2.write(i,2,sheet.cell_value(j, 0))\n",
        "    i=i+1\n",
        "    l=l+1\n",
        "\n",
        "\n",
        "  rfr=0\n",
        "  first=3\n",
        "  second=8\n",
        "  for i in range(1,16):\n",
        "    if (i==6):\n",
        "      wb = xlrd.open_workbook(\"/content/eeg analysis result/\"+subject+\"_CH2_C4.xls\")\n",
        "      sheet = wb.sheet_by_index(0)\n",
        "      row=sheet.nrows\n",
        "      col=sheet.ncols\n",
        "      rfr=0\n",
        "    elif (i==11):\n",
        "      wb = xlrd.open_workbook(\"/content/eeg analysis result/\"+subject+\"_CH3_O2.xls\")\n",
        "      sheet = wb.sheet_by_index(0)\n",
        "      row=sheet.nrows\n",
        "      col=sheet.ncols\n",
        "      rfr=0\n",
        "\n",
        "    new_rfr=rfr\n",
        "    rfc=1\n",
        "    for wfc in range(first,second):\n",
        "      wfr=next_index\n",
        "      rfr=new_rfr\n",
        "      for rfr in range(rfr+8,row):\n",
        "        if sheet.cell_value(rfr, 0)=='':\n",
        "          break\n",
        "        w_sheet2.write(wfr,wfc,sheet.cell_value(rfr, rfc))\n",
        "        wfr=wfr+1\n",
        "      rfc=rfc+1\n",
        "    first=second\n",
        "    second=second+5\n",
        "\n",
        "\n",
        "  wb2.save('EEG_HMC_FeatureExtraction.xlsx')"
      ],
      "execution_count": 6,
      "outputs": []
    },
    {
      "cell_type": "code",
      "metadata": {
        "id": "10_zbdUEsv3-"
      },
      "source": [
        "l=['002','003','004','005','006','007','008','009','010','013','014','015','018','019','020','021','022','023','024','025','026','027','028','029','030','031','033','034','035','036','037','038','039','040','041','043','044','045','046','049','050','051','052','053','054','055','057','059','060','061','062','064','066','067','068','069','072','073','074','076','077','078','080','082','084','085','086','087','088','089','090','091','092','093','095','096','098','099','100','101','102','103','104','105','106','107','108','109','110','111','112','113','114','115','116','117','118','119','120','121','122','123','124','125','126','127','128','129','130','131','132','133','134','136','137','138','139','141','142','143','144','145','146','148','149','150','152','153','154']\n",
        "\n",
        "for i in l:\n",
        "  raf(\"SN\"+i)\n",
        "  print(\"----------------------\")\n",
        "  print(\"SN\"+i+\" is completed!!!.........................\")\n",
        "  print(\"----------------------\")"
      ],
      "execution_count": null,
      "outputs": []
    },
    {
      "cell_type": "code",
      "metadata": {
        "id": "xyar_KSt0q-N",
        "outputId": "a4d42559-1b69-4f32-f16e-e0b44f277fe9",
        "colab": {
          "base_uri": "https://localhost:8080/"
        }
      },
      "source": [
        "l=['136','137','138','139','141','142','143','144','145','146','148','149','150','152','153','154']\n",
        "for i in l:\n",
        "  raf(\"SN\"+i)\n",
        "  print(\"----------------------\")\n",
        "  print(\"SN\"+i+\" is completed!!!.........................\")\n",
        "  print(\"----------------------\")"
      ],
      "execution_count": 11,
      "outputs": [
        {
          "output_type": "stream",
          "name": "stdout",
          "text": [
            "*** No CODEPAGE record, no encoding_override: will use 'ascii'\n",
            "*** No CODEPAGE record, no encoding_override: will use 'ascii'\n",
            "*** No CODEPAGE record, no encoding_override: will use 'ascii'\n",
            "----------------------\n",
            "SN136 is completed!!!.........................\n",
            "----------------------\n",
            "*** No CODEPAGE record, no encoding_override: will use 'ascii'\n",
            "*** No CODEPAGE record, no encoding_override: will use 'ascii'\n",
            "*** No CODEPAGE record, no encoding_override: will use 'ascii'\n",
            "----------------------\n",
            "SN137 is completed!!!.........................\n",
            "----------------------\n",
            "*** No CODEPAGE record, no encoding_override: will use 'ascii'\n",
            "*** No CODEPAGE record, no encoding_override: will use 'ascii'\n",
            "*** No CODEPAGE record, no encoding_override: will use 'ascii'\n",
            "----------------------\n",
            "SN138 is completed!!!.........................\n",
            "----------------------\n",
            "*** No CODEPAGE record, no encoding_override: will use 'ascii'\n",
            "*** No CODEPAGE record, no encoding_override: will use 'ascii'\n",
            "*** No CODEPAGE record, no encoding_override: will use 'ascii'\n",
            "----------------------\n",
            "SN139 is completed!!!.........................\n",
            "----------------------\n",
            "*** No CODEPAGE record, no encoding_override: will use 'ascii'\n",
            "*** No CODEPAGE record, no encoding_override: will use 'ascii'\n",
            "*** No CODEPAGE record, no encoding_override: will use 'ascii'\n",
            "----------------------\n",
            "SN141 is completed!!!.........................\n",
            "----------------------\n",
            "*** No CODEPAGE record, no encoding_override: will use 'ascii'\n",
            "*** No CODEPAGE record, no encoding_override: will use 'ascii'\n",
            "*** No CODEPAGE record, no encoding_override: will use 'ascii'\n",
            "----------------------\n",
            "SN142 is completed!!!.........................\n",
            "----------------------\n",
            "*** No CODEPAGE record, no encoding_override: will use 'ascii'\n",
            "*** No CODEPAGE record, no encoding_override: will use 'ascii'\n",
            "*** No CODEPAGE record, no encoding_override: will use 'ascii'\n",
            "----------------------\n",
            "SN143 is completed!!!.........................\n",
            "----------------------\n",
            "*** No CODEPAGE record, no encoding_override: will use 'ascii'\n",
            "*** No CODEPAGE record, no encoding_override: will use 'ascii'\n",
            "*** No CODEPAGE record, no encoding_override: will use 'ascii'\n",
            "----------------------\n",
            "SN144 is completed!!!.........................\n",
            "----------------------\n",
            "*** No CODEPAGE record, no encoding_override: will use 'ascii'\n",
            "*** No CODEPAGE record, no encoding_override: will use 'ascii'\n",
            "*** No CODEPAGE record, no encoding_override: will use 'ascii'\n",
            "----------------------\n",
            "SN145 is completed!!!.........................\n",
            "----------------------\n",
            "*** No CODEPAGE record, no encoding_override: will use 'ascii'\n",
            "*** No CODEPAGE record, no encoding_override: will use 'ascii'\n",
            "*** No CODEPAGE record, no encoding_override: will use 'ascii'\n",
            "----------------------\n",
            "SN146 is completed!!!.........................\n",
            "----------------------\n",
            "*** No CODEPAGE record, no encoding_override: will use 'ascii'\n",
            "*** No CODEPAGE record, no encoding_override: will use 'ascii'\n",
            "*** No CODEPAGE record, no encoding_override: will use 'ascii'\n",
            "----------------------\n",
            "SN148 is completed!!!.........................\n",
            "----------------------\n",
            "*** No CODEPAGE record, no encoding_override: will use 'ascii'\n",
            "*** No CODEPAGE record, no encoding_override: will use 'ascii'\n",
            "*** No CODEPAGE record, no encoding_override: will use 'ascii'\n",
            "----------------------\n",
            "SN149 is completed!!!.........................\n",
            "----------------------\n",
            "*** No CODEPAGE record, no encoding_override: will use 'ascii'\n",
            "*** No CODEPAGE record, no encoding_override: will use 'ascii'\n",
            "*** No CODEPAGE record, no encoding_override: will use 'ascii'\n",
            "----------------------\n",
            "SN150 is completed!!!.........................\n",
            "----------------------\n",
            "*** No CODEPAGE record, no encoding_override: will use 'ascii'\n",
            "*** No CODEPAGE record, no encoding_override: will use 'ascii'\n",
            "*** No CODEPAGE record, no encoding_override: will use 'ascii'\n",
            "----------------------\n",
            "SN152 is completed!!!.........................\n",
            "----------------------\n",
            "*** No CODEPAGE record, no encoding_override: will use 'ascii'\n",
            "*** No CODEPAGE record, no encoding_override: will use 'ascii'\n",
            "*** No CODEPAGE record, no encoding_override: will use 'ascii'\n",
            "----------------------\n",
            "SN153 is completed!!!.........................\n",
            "----------------------\n",
            "*** No CODEPAGE record, no encoding_override: will use 'ascii'\n",
            "*** No CODEPAGE record, no encoding_override: will use 'ascii'\n",
            "*** No CODEPAGE record, no encoding_override: will use 'ascii'\n",
            "----------------------\n",
            "SN154 is completed!!!.........................\n",
            "----------------------\n"
          ]
        }
      ]
    },
    {
      "cell_type": "code",
      "metadata": {
        "id": "_yOOPTbl2Vh3",
        "outputId": "be84426b-ee55-4b91-b38b-ae1b1114cf61",
        "colab": {
          "base_uri": "https://localhost:8080/",
          "height": 16
        }
      },
      "source": [
        "from google.colab import files\n",
        "files.download(\"/content/EEG_HMC_FeatureExtraction.xlsx\")"
      ],
      "execution_count": 12,
      "outputs": [
        {
          "output_type": "display_data",
          "data": {
            "application/javascript": [
              "\n",
              "    async function download(id, filename, size) {\n",
              "      if (!google.colab.kernel.accessAllowed) {\n",
              "        return;\n",
              "      }\n",
              "      const div = document.createElement('div');\n",
              "      const label = document.createElement('label');\n",
              "      label.textContent = `Downloading \"${filename}\": `;\n",
              "      div.appendChild(label);\n",
              "      const progress = document.createElement('progress');\n",
              "      progress.max = size;\n",
              "      div.appendChild(progress);\n",
              "      document.body.appendChild(div);\n",
              "\n",
              "      const buffers = [];\n",
              "      let downloaded = 0;\n",
              "\n",
              "      const channel = await google.colab.kernel.comms.open(id);\n",
              "      // Send a message to notify the kernel that we're ready.\n",
              "      channel.send({})\n",
              "\n",
              "      for await (const message of channel.messages) {\n",
              "        // Send a message to notify the kernel that we're ready.\n",
              "        channel.send({})\n",
              "        if (message.buffers) {\n",
              "          for (const buffer of message.buffers) {\n",
              "            buffers.push(buffer);\n",
              "            downloaded += buffer.byteLength;\n",
              "            progress.value = downloaded;\n",
              "          }\n",
              "        }\n",
              "      }\n",
              "      const blob = new Blob(buffers, {type: 'application/binary'});\n",
              "      const a = document.createElement('a');\n",
              "      a.href = window.URL.createObjectURL(blob);\n",
              "      a.download = filename;\n",
              "      div.appendChild(a);\n",
              "      a.click();\n",
              "      div.remove();\n",
              "    }\n",
              "  "
            ],
            "text/plain": [
              "<IPython.core.display.Javascript object>"
            ]
          },
          "metadata": {}
        },
        {
          "output_type": "display_data",
          "data": {
            "application/javascript": [
              "download(\"download_aad288e2-39bb-4f9a-a0ca-0056ca7bc8d4\", \"EEG_HMC_FeatureExtraction.xlsx\", 62035968)"
            ],
            "text/plain": [
              "<IPython.core.display.Javascript object>"
            ]
          },
          "metadata": {}
        }
      ]
    }
  ]
}