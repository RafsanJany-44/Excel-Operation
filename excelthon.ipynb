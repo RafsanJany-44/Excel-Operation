{
  "nbformat": 4,
  "nbformat_minor": 0,
  "metadata": {
    "colab": {
      "name": "excelthon.ipynb",
      "provenance": [],
      "authorship_tag": "ABX9TyOHmQHMLhWTjeUc+2UZx5tc",
      "include_colab_link": true
    },
    "kernelspec": {
      "name": "python3",
      "display_name": "Python 3"
    },
    "language_info": {
      "name": "python"
    }
  },
  "cells": [
    {
      "cell_type": "markdown",
      "metadata": {
        "id": "view-in-github",
        "colab_type": "text"
      },
      "source": [
        "<a href=\"https://colab.research.google.com/github/RafsanJany-44/Excel-Operation/blob/main/excelthon.ipynb\" target=\"_parent\"><img src=\"https://colab.research.google.com/assets/colab-badge.svg\" alt=\"Open In Colab\"/></a>"
      ]
    },
    {
      "cell_type": "markdown",
      "metadata": {
        "id": "RtBlrtGgvrSs"
      },
      "source": [
        "#Writting excel file\n"
      ]
    },
    {
      "cell_type": "code",
      "metadata": {
        "id": "CiMdCQhQtUsA"
      },
      "source": [
        "import xlwt\n",
        "from xlwt import Workbook\n",
        "  \n",
        "# Workbook is created\n",
        "wb = Workbook()\n",
        "  \n",
        "# add_sheet is used to create sheet.\n",
        "sheet1 = wb.add_sheet('Sheet 1')\n",
        "  \n",
        "sheet1.write(1, 0, 'ISBT DEHRADUN')\n",
        "sheet1.write(2, 0, 'SHASTRADHARA')\n",
        "sheet1.write(3, 0, 'CLEMEN TOWN')\n",
        "sheet1.write(4, 0, 'RAJPUR ROAD')\n",
        "sheet1.write(5, 0, 'CLOCK TOWER')\n",
        "sheet1.write(0, 1, 'ISBT DEHRADUN')\n",
        "sheet1.write(0, 2, 'SHASTRADHARA')\n",
        "sheet1.write(0, 3, 'CLEMEN TOWN')\n",
        "sheet1.write(0, 4, 'RAJPUR ROAD')\n",
        "sheet1.write(0, 5, 'CLOCK TOWER')\n",
        "  \n",
        "wb.save('example.xls')"
      ],
      "execution_count": 2,
      "outputs": []
    },
    {
      "cell_type": "markdown",
      "metadata": {
        "id": "eMtTe3SzwKF2"
      },
      "source": [
        "#Reading form a EXCEL file\n"
      ]
    },
    {
      "cell_type": "code",
      "metadata": {
        "id": "gil_lzcAwJJX"
      },
      "source": [
        "import xlrd\n",
        " \n",
        "loc = (\"example.xls\")\n",
        " \n",
        "wb = xlrd.open_workbook(loc)\n",
        "sheet = wb.sheet_by_index(0)\n",
        "row=sheet.nrows\n",
        "col=sheet.ncols\n",
        "print(col) \n",
        "\n",
        "for i in range(row):\n",
        "  for j in range(col):\n",
        "    print(sheet.cell_value(j, i))"
      ],
      "execution_count": null,
      "outputs": []
    },
    {
      "cell_type": "markdown",
      "metadata": {
        "id": "OeRJO2zv0_Ia"
      },
      "source": [
        "#Text File\n"
      ]
    },
    {
      "cell_type": "code",
      "metadata": {
        "id": "N9_FRn1PDXfb"
      },
      "source": [
        "f=open('/content/SN001_sleepscoring.txt',\"r\")\n",
        "lines=f.readlines()\n",
        "result=[]\n",
        "for x in lines:\n",
        "    v=(x.split(' ')[6])\n",
        "    print(v[:-1])\n",
        "f.close()\n",
        "print(result)"
      ],
      "execution_count": null,
      "outputs": []
    }
  ]
}