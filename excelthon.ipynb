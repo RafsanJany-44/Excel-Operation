{
  "nbformat": 4,
  "nbformat_minor": 0,
  "metadata": {
    "colab": {
      "name": "excelthon.ipynb",
      "provenance": [],
      "collapsed_sections": [],
      "authorship_tag": "ABX9TyMcoUB5yWNg9Mq1xdZGhpb4",
      "include_colab_link": true
    },
    "kernelspec": {
      "display_name": "Python 3",
      "name": "python3"
    },
    "language_info": {
      "name": "python"
    }
  },
  "cells": [
    {
      "cell_type": "markdown",
      "metadata": {
        "id": "view-in-github",
        "colab_type": "text"
      },
      "source": [
        "<a href=\"https://colab.research.google.com/github/RafsanJany-44/Excel-Operation/blob/main/excelthon.ipynb\" target=\"_parent\"><img src=\"https://colab.research.google.com/assets/colab-badge.svg\" alt=\"Open In Colab\"/></a>"
      ]
    },
    {
      "cell_type": "markdown",
      "metadata": {
        "id": "RtBlrtGgvrSs"
      },
      "source": [
        "#Writting excel file\n"
      ]
    },
    {
      "cell_type": "code",
      "metadata": {
        "id": "CiMdCQhQtUsA"
      },
      "source": [
        "import xlwt\n",
        "from xlwt import Workbook\n",
        "  \n",
        "# Workbook is created\n",
        "wb = Workbook()\n",
        "  \n",
        "# add_sheet is used to create sheet.\n",
        "sheet1 = wb.add_sheet('Sheet 1')\n",
        "  \n",
        "sheet1.write(1, 0, 'ISBT DEHRADUN')\n",
        "sheet1.write(2, 0, 'SHASTRADHARA')\n",
        "sheet1.write(3, 0, 'CLEMEN TOWN')\n",
        "sheet1.write(4, 0, 'RAJPUR ROAD')\n",
        "sheet1.write(5, 0, 'CLOCK TOWER')\n",
        "sheet1.write(0, 1, 'ISBT DEHRADUN')\n",
        "sheet1.write(0, 2, 'SHASTRADHARA')\n",
        "sheet1.write(0, 3, 'CLEMEN TOWN')\n",
        "sheet1.write(0, 4, 'RAJPUR ROAD')\n",
        "sheet1.write(0, 5, 'CLOCK TOWER')\n",
        "  \n",
        "wb.save('example.xlsx')"
      ],
      "execution_count": null,
      "outputs": []
    },
    {
      "cell_type": "markdown",
      "metadata": {
        "id": "eMtTe3SzwKF2"
      },
      "source": [
        "#Reading form a EXCEL file\n"
      ]
    },
    {
      "cell_type": "code",
      "metadata": {
        "id": "gil_lzcAwJJX"
      },
      "source": [
        "import xlrd\n",
        " \n",
        "loc = (\"example.xls\")\n",
        " \n",
        "wb = xlrd.open_workbook(loc)\n",
        "sheet = wb.sheet_by_index(0)\n",
        "row=sheet.nrows\n",
        "col=sheet.ncols\n",
        "print(col) \n",
        "\n",
        "for i in range(row):\n",
        "  for j in range(col):\n",
        "    print(sheet.cell_value(j, i))"
      ],
      "execution_count": null,
      "outputs": []
    },
    {
      "cell_type": "markdown",
      "metadata": {
        "id": "OeRJO2zv0_Ia"
      },
      "source": [
        "#Text File\n"
      ]
    },
    {
      "cell_type": "code",
      "metadata": {
        "id": "N9_FRn1PDXfb"
      },
      "source": [
        "f=open('/content/SN001_sleepscoring.txt',\"r\")\n",
        "lines=f.readlines()\n",
        "result=[]\n",
        "for x in lines:\n",
        "    v=(x.split(' ')[6])\n",
        "    if v[0]!='E' and v[0]!='L':\n",
        "      print(v[:-1])\n",
        "f.close()"
      ],
      "execution_count": null,
      "outputs": []
    },
    {
      "cell_type": "markdown",
      "metadata": {
        "id": "Rn1N4DH4ErHj"
      },
      "source": [
        "# main Programm starts from here"
      ]
    },
    {
      "cell_type": "code",
      "metadata": {
        "id": "71dBoAGVEwNW"
      },
      "source": [
        "def never_give_up(fo):\n",
        "  import xlwt\n",
        "  from xlwt import Workbook\n",
        "  wb = Workbook()\n",
        "  sheet1 = wb.add_sheet('Sheet 1')\n",
        "  index=1\n",
        "  types=['N1','N2','N3','R','W']\n",
        "  f=open('/content/sleep_scooring_txt/'+fo+'.txt',\"r\")\n",
        "  lines=f.readlines()\n",
        "  for x in lines:\n",
        "      v=(x.split(' ')[6])\n",
        "      if v[:-1] in types:\n",
        "        sheet1.write(index, 0, v[:-1])\n",
        "        index=index+1\n",
        "  f.close()\n",
        "  wb.save('/content/sleep_scooring_xlsx/'+fo+'.xlsx')\n",
        "\n",
        "\n",
        "for j in range(1,10):\n",
        "  never_give_up(\"SN00\"+str(j)+\"_sleepscoring\")\n",
        "for i in range(10,61):\n",
        "  never_give_up(\"SN0\"+str(i)+\"_sleepscoring\")"
      ],
      "execution_count": null,
      "outputs": []
    },
    {
      "cell_type": "markdown",
      "metadata": {
        "id": "OnnigaQ7UoeJ"
      },
      "source": [
        "<font size = '8' color = 'red'>File Zip Operation</font>"
      ]
    },
    {
      "cell_type": "code",
      "metadata": {
        "id": "VJtMTBx6VJdE"
      },
      "source": [
        ""
      ],
      "execution_count": null,
      "outputs": []
    },
    {
      "cell_type": "code",
      "metadata": {
        "id": "akntrxOASQUF"
      },
      "source": [
        "!unzip '/content/eeg analysis result.zip'"
      ],
      "execution_count": null,
      "outputs": []
    },
    {
      "cell_type": "code",
      "metadata": {
        "id": "3kfasL4lzHaw"
      },
      "source": [
        "!unzip '/content/sleep_scooring_xls.zip'"
      ],
      "execution_count": null,
      "outputs": []
    },
    {
      "cell_type": "code",
      "metadata": {
        "id": "DbBHc52XVS_w"
      },
      "source": [
        "!zip -r /content/sleep_scooring_xlsx.zip /content/sleep_scooring_xlsx\n",
        "\n",
        "from google.colab import files\n",
        "files.download(\"/content/sleep_scooring_xlsx.zip\")"
      ],
      "execution_count": null,
      "outputs": []
    },
    {
      "cell_type": "code",
      "metadata": {
        "id": "1oAbN-OoX70M"
      },
      "source": [
        "!rm -rf \"/content/content\""
      ],
      "execution_count": null,
      "outputs": []
    },
    {
      "cell_type": "markdown",
      "metadata": {
        "id": "jArGodo0ZSWT"
      },
      "source": [
        "# fiture data marging \n"
      ]
    },
    {
      "cell_type": "code",
      "metadata": {
        "colab": {
          "base_uri": "https://localhost:8080/"
        },
        "id": "YKvVjc6cztEg",
        "outputId": "22c5ba80-9c73-44d8-a9de-5a7c0f1bde61"
      },
      "source": [
        "!pip install xlutils"
      ],
      "execution_count": null,
      "outputs": [
        {
          "name": "stdout",
          "output_type": "stream",
          "text": [
            "Collecting xlutils\n",
            "  Downloading xlutils-2.0.0-py2.py3-none-any.whl (55 kB)\n",
            "\u001b[?25l\r\u001b[K     |██████                          | 10 kB 4.4 MB/s eta 0:00:01\r\u001b[K     |████████████                    | 20 kB 5.0 MB/s eta 0:00:01\r\u001b[K     |█████████████████▉              | 30 kB 5.2 MB/s eta 0:00:01\r\u001b[K     |███████████████████████▉        | 40 kB 4.4 MB/s eta 0:00:01\r\u001b[K     |█████████████████████████████▊  | 51 kB 4.0 MB/s eta 0:00:01\r\u001b[K     |████████████████████████████████| 55 kB 2.0 MB/s \n",
            "\u001b[?25hRequirement already satisfied: xlrd>=0.7.2 in /usr/local/lib/python3.7/dist-packages (from xlutils) (1.1.0)\n",
            "Requirement already satisfied: xlwt>=0.7.4 in /usr/local/lib/python3.7/dist-packages (from xlutils) (1.3.0)\n",
            "Installing collected packages: xlutils\n",
            "Successfully installed xlutils-2.0.0\n"
          ]
        }
      ]
    },
    {
      "cell_type": "markdown",
      "metadata": {
        "id": "78a6H6pHXCe5"
      },
      "source": [
        "#writing in a excel file\n"
      ]
    },
    {
      "cell_type": "code",
      "metadata": {
        "id": "_of_ur1jzLQL"
      },
      "source": [
        "import xlwt\n",
        "import xlrd\n",
        "from xlutils.copy import copy\n",
        " \n",
        "rb = xlrd.open_workbook('EEG_HMC_FeatureExtraction.xlsx')\n",
        "wb2 = copy(rb)\n",
        "w_sheet2 = wb.get_sheet(0)\n",
        "\n",
        "\n",
        "\n",
        "\n",
        "\n",
        "w_sheet2.write(1,4,'hello hi')\n",
        "\n",
        "\n",
        "\n",
        "\n",
        "\n",
        "wb.save('EEG_HMC_FeatureExtraction.xlsx')"
      ],
      "execution_count": null,
      "outputs": []
    },
    {
      "cell_type": "code",
      "metadata": {
        "id": "49YFIfw53-c3"
      },
      "source": [
        "import xlrd\n",
        "\n",
        "loc = (\"/content/eeg analysis result/SN001_CH1_F4.xls\")\n",
        "\n",
        "wb = xlrd.open_workbook(loc)\n",
        "sheet = wb.sheet_by_index(0)\n",
        "row=sheet.nrows\n",
        "col=sheet.ncols\n",
        "h=[]\n",
        "i=1;\n",
        "for j in range(8,row):\n",
        "  print(sheet.cell_value(j, 0),i)\n",
        "  i=i+1\n",
        "\n",
        "\n",
        "print(h)"
      ],
      "execution_count": null,
      "outputs": []
    },
    {
      "cell_type": "code",
      "metadata": {
        "colab": {
          "base_uri": "https://localhost:8080/"
        },
        "id": "eSR1V9C7kM0g",
        "outputId": "17daabac-c768-4d7b-9c7e-5510655aada1"
      },
      "source": [
        "!pip install xlutils"
      ],
      "execution_count": null,
      "outputs": [
        {
          "name": "stdout",
          "output_type": "stream",
          "text": [
            "Collecting xlutils\n",
            "  Downloading xlutils-2.0.0-py2.py3-none-any.whl (55 kB)\n",
            "\u001b[?25l\r\u001b[K     |██████                          | 10 kB 20.3 MB/s eta 0:00:01\r\u001b[K     |████████████                    | 20 kB 27.5 MB/s eta 0:00:01\r\u001b[K     |█████████████████▉              | 30 kB 34.0 MB/s eta 0:00:01\r\u001b[K     |███████████████████████▉        | 40 kB 36.8 MB/s eta 0:00:01\r\u001b[K     |█████████████████████████████▊  | 51 kB 36.4 MB/s eta 0:00:01\r\u001b[K     |████████████████████████████████| 55 kB 2.7 MB/s \n",
            "\u001b[?25hRequirement already satisfied: xlrd>=0.7.2 in /usr/local/lib/python3.7/dist-packages (from xlutils) (1.1.0)\n",
            "Requirement already satisfied: xlwt>=0.7.4 in /usr/local/lib/python3.7/dist-packages (from xlutils) (1.3.0)\n",
            "Installing collected packages: xlutils\n",
            "Successfully installed xlutils-2.0.0\n"
          ]
        }
      ]
    },
    {
      "cell_type": "code",
      "metadata": {
        "id": "pLtng8pG966l"
      },
      "source": [
        "import xlwt\n",
        "import xlrd\n",
        "from xlutils.copy import copy\n",
        " \n",
        "rb = xlrd.open_workbook('EEG_HMC_FeatureExtraction.xlsx')\n",
        "wb2 = copy(rb)\n",
        "w_sheet2 = wb2.get_sheet(0)\n",
        "\n",
        "\n",
        "wb = xlrd.open_workbook(\"/content/eeg analysis result/SN001_CH1_F4.xls\")\n",
        "sheet = wb.sheet_by_index(0)\n",
        "row=sheet.nrows\n",
        "col=sheet.ncols\n",
        "\n",
        "\n",
        "wb3 = xlrd.open_workbook(\"/content/content/sleep_scooring_xls/SN001_sleepscoring.xls\")\n",
        "sheet3 = wb3.sheet_by_index(0)\n",
        "row=sheet3.nrows\n",
        "\n",
        "\n",
        "l=8\n",
        "for i in range(1,row):\n",
        "  print(sheet.cell_value(l, 0),\"-\",sheet3.cell_value(i, 0))\n",
        "  l=l+1\n",
        "\n",
        "\n",
        "\n",
        "wb2.save('EEG_HMC_FeatureExtraction.xlsx')"
      ],
      "execution_count": null,
      "outputs": []
    },
    {
      "cell_type": "code",
      "metadata": {
        "colab": {
          "base_uri": "https://localhost:8080/"
        },
        "id": "JtLGrQPcBuWs",
        "outputId": "2d1ecce1-c382-4a2d-c1a6-8078a752c7dc"
      },
      "source": [
        "import xlwt\n",
        "import xlrd\n",
        "from xlutils.copy import copy\n",
        " \n",
        "rb = xlrd.open_workbook('EEG_HMC_FeatureExtraction.xlsx')\n",
        "wb2 = copy(rb)\n",
        "w_sheet2 = wb2.get_sheet(0)\n",
        "\n",
        "\n",
        "wb = xlrd.open_workbook(\"/content/eeg analysis result/SN001_CH1_F4.xls\")\n",
        "sheet = wb.sheet_by_index(0)\n",
        "row=sheet.nrows\n",
        "col=sheet.ncols\n",
        "\n",
        "subject= \"SN001\"\n",
        "i=1\n",
        "for j in range(8,row):\n",
        "  if sheet.cell_value(j, 0)=='':\n",
        "      break\n",
        "  w_sheet2.write(i,0,subject)\n",
        "  w_sheet2.write(i,2,sheet.cell_value(j, 0))\n",
        "  i=i+1\n",
        "wb2.save('EEG_HMC_FeatureExtraction.xlsx')\n"
      ],
      "execution_count": null,
      "outputs": [
        {
          "name": "stdout",
          "output_type": "stream",
          "text": [
            "*** No CODEPAGE record, no encoding_override: will use 'ascii'\n"
          ]
        }
      ]
    },
    {
      "cell_type": "code",
      "metadata": {
        "colab": {
          "base_uri": "https://localhost:8080/"
        },
        "id": "Z2ITMv-2gtYI",
        "outputId": "40859e26-60b5-411f-dc1b-564ee85e3a04"
      },
      "source": [
        "print(i,l,j)"
      ],
      "execution_count": null,
      "outputs": [
        {
          "name": "stdout",
          "output_type": "stream",
          "text": [
            "855 862 854\n"
          ]
        }
      ]
    },
    {
      "cell_type": "code",
      "metadata": {
        "id": "Nnx4HmpWg32D"
      },
      "source": [
        "rfr =   rfr+8        reading file row\n",
        "wfc =   8 to 14  writing file col\n",
        "rfc=    1            reading file col its ok - we will assign rfc = 0 before loop and update assiging when the loop will begin again.    rfc=0 loop: ---- rfc=1 goto;\n",
        "wfr =   1        wiriting file row\n",
        "\n",
        "we will write epoc and name separately"
      ],
      "execution_count": null,
      "outputs": []
    },
    {
      "cell_type": "code",
      "metadata": {
        "colab": {
          "base_uri": "https://localhost:8080/"
        },
        "id": "smyjXBPB4Y-b",
        "outputId": "b8826ec5-74b1-49fe-da0e-06d125053b37"
      },
      "source": [
        "for i in range(8,13):\n",
        "  print(i,i+2)"
      ],
      "execution_count": null,
      "outputs": [
        {
          "name": "stdout",
          "output_type": "stream",
          "text": [
            "8 10\n",
            "9 11\n",
            "10 12\n",
            "11 13\n",
            "12 14\n"
          ]
        }
      ]
    },
    {
      "cell_type": "code",
      "metadata": {
        "colab": {
          "base_uri": "https://localhost:8080/"
        },
        "id": "wdOpaFrb-yvX",
        "outputId": "9e01773a-ad79-478b-a80e-d6e9cfff3b50"
      },
      "source": [
        "import xlwt\n",
        "import xlrd\n",
        "from xlutils.copy import copy\n",
        " \n",
        "rb = xlrd.open_workbook('EEG_HMC_FeatureExtraction.xlsx')\n",
        "wb2 = copy(rb)\n",
        "w_sheet2 = wb2.get_sheet(0)\n",
        "\n",
        "\n",
        "\n",
        "wb = xlrd.open_workbook(\"/content/eeg analysis result/SN001_CH1_F4.xls\")\n",
        "sheet = wb.sheet_by_index(0)\n",
        "row=sheet.nrows\n",
        "col=sheet.ncols\n",
        "\n",
        "#for F4\n",
        "rfc=1\n",
        "for wfc in range(3,8):\n",
        "  wfr=1\n",
        "  for rfr in range(8,row):\n",
        "    if sheet.cell_value(rfr, rfc)=='':\n",
        "      break\n",
        "    w_sheet2.write(wfr,wfc,sheet.cell_value(rfr, rfc))\n",
        "    wfr=wfr+1\n",
        "  rfc=rfc+1\n",
        "\n",
        "\n",
        "new_rfr1=rfr\n",
        "rfc=1\n",
        "for wfc in range(8,13):\n",
        "  wfr=1\n",
        "  rfr=new_rfr1\n",
        "  for rfr in range(rfr+8,row):\n",
        "    if sheet.cell_value(rfr, 0)=='':\n",
        "      break\n",
        "    w_sheet2.write(wfr,wfc,sheet.cell_value(rfr, rfc))\n",
        "    wfr=wfr+1\n",
        "  rfc=rfc+1\n",
        "\n",
        "\n",
        "new_rfr2=rfr\n",
        "rfc=1\n",
        "for wfc in range(13,18):\n",
        "  wfr=1\n",
        "  rfr=new_rfr2\n",
        "  for rfr in range(rfr+8,row):\n",
        "    if sheet.cell_value(rfr, 0)=='':\n",
        "      break\n",
        "    w_sheet2.write(wfr,wfc,sheet.cell_value(rfr, rfc))\n",
        "    wfr=wfr+1\n",
        "  rfc=rfc+1\n",
        "\n",
        "\n",
        "new_rfr3=rfr\n",
        "rfc=1\n",
        "for wfc in range(18,23):\n",
        "  wfr=1\n",
        "  rfr=new_rfr3\n",
        "  for rfr in range(rfr+8,row):\n",
        "    if sheet.cell_value(rfr, 0)=='':\n",
        "      break\n",
        "    w_sheet2.write(wfr,wfc,sheet.cell_value(rfr, rfc))\n",
        "    wfr=wfr+1\n",
        "  rfc=rfc+1\n",
        "\n",
        "\n",
        "new_rfr4=rfr\n",
        "rfc=1\n",
        "for wfc in range(23,28):\n",
        "  wfr=1\n",
        "  rfr=new_rfr4\n",
        "  for rfr in range(rfr+8,row):\n",
        "    if sheet.cell_value(rfr, 0)=='':\n",
        "      break\n",
        "    w_sheet2.write(wfr,wfc,sheet.cell_value(rfr, rfc))\n",
        "    wfr=wfr+1\n",
        "  rfc=rfc+1\n",
        "\n",
        "#for c4\n",
        "wb = xlrd.open_workbook(\"/content/eeg analysis result/SN001_CH2_C4.xls\")\n",
        "sheet = wb.sheet_by_index(0)\n",
        "row=sheet.nrows\n",
        "col=sheet.ncols\n",
        "\n",
        "rfc=1\n",
        "for wfc in range(28,33):\n",
        "  wfr=1\n",
        "  for rfr in range(8,row):\n",
        "    if sheet.cell_value(rfr, rfc)=='':\n",
        "      break\n",
        "    w_sheet2.write(wfr,wfc,sheet.cell_value(rfr, rfc))\n",
        "    wfr=wfr+1\n",
        "  rfc=rfc+1\n",
        "\n",
        "\n",
        "new_rfr1=rfr\n",
        "rfc=1\n",
        "for wfc in range(33,38):\n",
        "  wfr=1\n",
        "  rfr=new_rfr1\n",
        "  for rfr in range(rfr+8,row):\n",
        "    if sheet.cell_value(rfr, 0)=='':\n",
        "      break\n",
        "    w_sheet2.write(wfr,wfc,sheet.cell_value(rfr, rfc))\n",
        "    wfr=wfr+1\n",
        "  rfc=rfc+1\n",
        "\n",
        "\n",
        "new_rfr1=rfr\n",
        "rfc=1\n",
        "for wfc in range(38,43):\n",
        "  wfr=1\n",
        "  rfr=new_rfr1\n",
        "  for rfr in range(rfr+8,row):\n",
        "    if sheet.cell_value(rfr, 0)=='':\n",
        "      break\n",
        "    w_sheet2.write(wfr,wfc,sheet.cell_value(rfr, rfc))\n",
        "    wfr=wfr+1\n",
        "  rfc=rfc+1\n",
        "\n",
        "\n",
        "new_rfr1=rfr\n",
        "rfc=1\n",
        "for wfc in range(43,48):\n",
        "  wfr=1\n",
        "  rfr=new_rfr1\n",
        "  for rfr in range(rfr+8,row):\n",
        "    if sheet.cell_value(rfr, 0)=='':\n",
        "      break\n",
        "    w_sheet2.write(wfr,wfc,sheet.cell_value(rfr, rfc))\n",
        "    wfr=wfr+1\n",
        "  rfc=rfc+1\n",
        "\n",
        "\n",
        "\n",
        "new_rfr1=rfr\n",
        "rfc=1\n",
        "for wfc in range(48,53):\n",
        "  wfr=1\n",
        "  rfr=new_rfr1\n",
        "  for rfr in range(rfr+8,row):\n",
        "    if sheet.cell_value(rfr, 0)=='':\n",
        "      break\n",
        "    w_sheet2.write(wfr,wfc,sheet.cell_value(rfr, rfc))\n",
        "    wfr=wfr+1\n",
        "  rfc=rfc+1\n",
        "\n",
        "#for O@\n",
        "wb = xlrd.open_workbook(\"/content/eeg analysis result/SN001_CH3_O2.xls\")\n",
        "sheet = wb.sheet_by_index(0)\n",
        "row=sheet.nrows\n",
        "col=sheet.ncols\n",
        "\n",
        "rfc=1\n",
        "for wfc in range(53,58):\n",
        "  wfr=1\n",
        "  for rfr in range(8,row):\n",
        "    if sheet.cell_value(rfr, rfc)=='':\n",
        "      break\n",
        "    w_sheet2.write(wfr,wfc,sheet.cell_value(rfr, rfc))\n",
        "    wfr=wfr+1\n",
        "  rfc=rfc+1\n",
        "\n",
        "\n",
        "new_rfr1=rfr\n",
        "rfc=1\n",
        "for wfc in range(58,63):\n",
        "  wfr=1\n",
        "  rfr=new_rfr1\n",
        "  for rfr in range(rfr+8,row):\n",
        "    if sheet.cell_value(rfr, 0)=='':\n",
        "      break\n",
        "    w_sheet2.write(wfr,wfc,sheet.cell_value(rfr, rfc))\n",
        "    wfr=wfr+1\n",
        "  rfc=rfc+1\n",
        "\n",
        "\n",
        "new_rfr1=rfr\n",
        "rfc=1\n",
        "for wfc in range(63,68):\n",
        "  wfr=1\n",
        "  rfr=new_rfr1\n",
        "  for rfr in range(rfr+8,row):\n",
        "    if sheet.cell_value(rfr, 0)=='':\n",
        "      break\n",
        "    w_sheet2.write(wfr,wfc,sheet.cell_value(rfr, rfc))\n",
        "    wfr=wfr+1\n",
        "  rfc=rfc+1\n",
        "\n",
        "\n",
        "new_rfr1=rfr\n",
        "rfc=1\n",
        "for wfc in range(68,73):\n",
        "  wfr=1\n",
        "  rfr=new_rfr1\n",
        "  for rfr in range(rfr+8,row):\n",
        "    if sheet.cell_value(rfr, 0)=='':\n",
        "      break\n",
        "    w_sheet2.write(wfr,wfc,sheet.cell_value(rfr, rfc))\n",
        "    wfr=wfr+1\n",
        "  rfc=rfc+1\n",
        "\n",
        "\n",
        "\n",
        "new_rfr1=rfr\n",
        "rfc=1\n",
        "for wfc in range(73,78):\n",
        "  wfr=1\n",
        "  rfr=new_rfr1\n",
        "  for rfr in range(rfr+8,row):\n",
        "    if sheet.cell_value(rfr, 0)=='':\n",
        "      break\n",
        "    w_sheet2.write(wfr,wfc,sheet.cell_value(rfr, rfc))\n",
        "    wfr=wfr+1\n",
        "  rfc=rfc+1\n",
        "\n",
        "wb2.save('EEG_HMC_FeatureExtraction.xlsx')"
      ],
      "execution_count": null,
      "outputs": [
        {
          "name": "stdout",
          "output_type": "stream",
          "text": [
            "*** No CODEPAGE record, no encoding_override: will use 'ascii'\n",
            "*** No CODEPAGE record, no encoding_override: will use 'ascii'\n",
            "*** No CODEPAGE record, no encoding_override: will use 'ascii'\n"
          ]
        }
      ]
    },
    {
      "cell_type": "code",
      "metadata": {
        "id": "kE8ZabIwm6OD"
      },
      "source": [
        "rfr =   rfr+8        reading file row\n",
        "wfc =   8 to 14  writing file col\n",
        "rfc=    1            reading file col its ok - we will assign rfc = 0 before loop and update assiging when the loop will begin again.    rfc=0 loop: ---- rfc=1 goto;\n",
        "wfr =   1        wiriting file row\n",
        "\n",
        "we will write epoc and name separately"
      ],
      "execution_count": null,
      "outputs": []
    },
    {
      "cell_type": "code",
      "metadata": {
        "colab": {
          "base_uri": "https://localhost:8080/"
        },
        "id": "WUyxOLV3qVpg",
        "outputId": "e2c4808f-05d1-4634-b73a-bc00c0c8e6ec"
      },
      "source": [
        "print(rfr)"
      ],
      "execution_count": null,
      "outputs": [
        {
          "name": "stdout",
          "output_type": "stream",
          "text": [
            "4315\n"
          ]
        }
      ]
    },
    {
      "cell_type": "code",
      "metadata": {
        "colab": {
          "base_uri": "https://localhost:8080/"
        },
        "id": "b_2EeeYrp0ox",
        "outputId": "87cddeaf-a20d-4421-caf4-e5de958296cb"
      },
      "source": [
        "import xlrd\n",
        "\n",
        "loc = (\"/content/eeg analysis result/SN001_CH1_F4.xls\")\n",
        "\n",
        "wb = xlrd.open_workbook(loc)\n",
        "sheet = wb.sheet_by_index(0)\n",
        "row=sheet.nrows\n",
        "col=sheet.ncols\n",
        "h=[]\n",
        "i=1;\n",
        "#for j in range(88,row):\n",
        "#  if sheet.cell_value(j, 0)=='':\n",
        "#    break\n",
        "#  print(sheet.cell_value(j, 0))\n",
        "  \n",
        "print(sheet.cell_value(1725, 0))\n",
        "\n",
        "\n",
        "print(h)"
      ],
      "execution_count": null,
      "outputs": [
        {
          "name": "stdout",
          "output_type": "stream",
          "text": [
            "*** No CODEPAGE record, no encoding_override: will use 'ascii'\n",
            "854.0\n",
            "[]\n"
          ]
        }
      ]
    },
    {
      "cell_type": "code",
      "metadata": {
        "colab": {
          "base_uri": "https://localhost:8080/"
        },
        "id": "uqtDVawNHmP9",
        "outputId": "c287dfdc-2899-4c32-9645-1d0c08c947fc"
      },
      "source": [
        "for m in range(1,15):\n",
        "  if (m%5==0):\n",
        "    print(m)"
      ],
      "execution_count": null,
      "outputs": [
        {
          "name": "stdout",
          "output_type": "stream",
          "text": [
            "5\n",
            "10\n",
            "15\n"
          ]
        }
      ]
    },
    {
      "cell_type": "markdown",
      "metadata": {
        "id": "hxDP1RxBiRgq"
      },
      "source": [
        "#latest"
      ]
    },
    {
      "cell_type": "code",
      "metadata": {
        "colab": {
          "base_uri": "https://localhost:8080/"
        },
        "id": "fuAEbciiGoff",
        "outputId": "e76dd242-cb4c-4433-d824-cca911dc52bf"
      },
      "source": [
        "import xlwt\n",
        "import xlrd\n",
        "from xlutils.copy import copy\n",
        "\n",
        "rb = xlrd.open_workbook('EEG_HMC_FeatureExtraction.xlsx')\n",
        "wb2 = copy(rb)\n",
        "w_sheet2 = wb2.get_sheet(0)\n",
        "\n",
        "\n",
        "\n",
        "wb = xlrd.open_workbook(\"/content/eeg analysis result/SN001_CH1_F4.xls\")\n",
        "sheet = wb.sheet_by_index(0)\n",
        "row=sheet.nrows\n",
        "col=sheet.ncols\n",
        "\n",
        "\n",
        "#subject and epoc\n",
        "subject= \"SN001\"\n",
        "i=1\n",
        "for j in range(8,row):\n",
        "  if sheet.cell_value(j, 0)=='':\n",
        "      break\n",
        "  w_sheet2.write(i,0,subject)\n",
        "  w_sheet2.write(i,2,sheet.cell_value(j, 0))\n",
        "  i=i+1\n",
        "\n",
        "\n",
        "rfr=0\n",
        "first=3\n",
        "second=8\n",
        "for i in range(1,16):\n",
        "  if (i==6):\n",
        "    wb = xlrd.open_workbook(\"/content/eeg analysis result/SN001_CH2_C4.xls\")\n",
        "    sheet = wb.sheet_by_index(0)\n",
        "    row=sheet.nrows\n",
        "    col=sheet.ncols\n",
        "    rfr=0\n",
        "  elif (i==11):\n",
        "    wb = xlrd.open_workbook(\"/content/eeg analysis result/SN001_CH3_O2.xls\")\n",
        "    sheet = wb.sheet_by_index(0)\n",
        "    row=sheet.nrows\n",
        "    col=sheet.ncols\n",
        "    rfr=0\n",
        "\n",
        "  new_rfr=rfr\n",
        "  rfc=1\n",
        "  for wfc in range(first,second):\n",
        "    wfr=1\n",
        "    rfr=new_rfr\n",
        "    for rfr in range(rfr+8,row):\n",
        "      if sheet.cell_value(rfr, 0)=='':\n",
        "        break\n",
        "      w_sheet2.write(wfr,wfc,sheet.cell_value(rfr, rfc))\n",
        "      wfr=wfr+1\n",
        "    rfc=rfc+1\n",
        "  first=second\n",
        "  second=second+5\n",
        "\n",
        "\n",
        "wb2.save('EEG_HMC_FeatureExtraction.xlsx')"
      ],
      "execution_count": null,
      "outputs": [
        {
          "name": "stdout",
          "output_type": "stream",
          "text": [
            "*** No CODEPAGE record, no encoding_override: will use 'ascii'\n",
            "*** No CODEPAGE record, no encoding_override: will use 'ascii'\n",
            "*** No CODEPAGE record, no encoding_override: will use 'ascii'\n"
          ]
        }
      ]
    },
    {
      "cell_type": "markdown",
      "metadata": {
        "id": "eRL-xNzwi322"
      },
      "source": [
        "#latest2"
      ]
    },
    {
      "cell_type": "code",
      "metadata": {
        "id": "mHo6ujwC0nmL"
      },
      "source": [
        "def raf(subject):\n",
        "  import xlwt\n",
        "  import xlrd\n",
        "  from xlutils.copy import copy\n",
        "  \n",
        "  rb = xlrd.open_workbook('EEG_HMC_FeatureExtraction.xlsx')\n",
        "  wb2 = copy(rb)\n",
        "  w_sheet2 = wb2.get_sheet(0)\n",
        "\n",
        "  next_index = xlrd.open_workbook(\"/content/EEG_HMC_FeatureExtraction.xlsx\").sheet_by_index(0).nrows\n",
        "  \n",
        "\n",
        "  wb = xlrd.open_workbook(\"/content/eeg analysis result/\"+subject+\"_CH1_F4.xls\")\n",
        "  sheet = wb.sheet_by_index(0)\n",
        "  row=sheet.nrows\n",
        "  col=sheet.ncols\n",
        "\n",
        "\n",
        "  #subject and epoc\n",
        "  i=next_index\n",
        "  for j in range(8,row):\n",
        "    if sheet.cell_value(j, 0)=='':\n",
        "        break\n",
        "    w_sheet2.write(i,0,subject)\n",
        "    w_sheet2.write(i,2,sheet.cell_value(j, 0))\n",
        "    i=i+1\n",
        "\n",
        "\n",
        "  rfr=0\n",
        "  first=3\n",
        "  second=8\n",
        "  for i in range(1,16):\n",
        "    if (i==6):\n",
        "      wb = xlrd.open_workbook(\"/content/eeg analysis result/\"+subject+\"_CH2_C4.xls\")\n",
        "      sheet = wb.sheet_by_index(0)\n",
        "      row=sheet.nrows\n",
        "      col=sheet.ncols\n",
        "      rfr=0\n",
        "    elif (i==11):\n",
        "      wb = xlrd.open_workbook(\"/content/eeg analysis result/\"+subject+\"_CH3_O2.xls\")\n",
        "      sheet = wb.sheet_by_index(0)\n",
        "      row=sheet.nrows\n",
        "      col=sheet.ncols\n",
        "      rfr=0\n",
        "\n",
        "    new_rfr=rfr\n",
        "    rfc=1\n",
        "    for wfc in range(first,second):\n",
        "      wfr=next_index\n",
        "      rfr=new_rfr\n",
        "      for rfr in range(rfr+8,row):\n",
        "        if sheet.cell_value(rfr, 0)=='':\n",
        "          break\n",
        "        w_sheet2.write(wfr,wfc,sheet.cell_value(rfr, rfc))\n",
        "        wfr=wfr+1\n",
        "      rfc=rfc+1\n",
        "    first=second\n",
        "    second=second+5\n",
        "\n",
        "\n",
        "  wb2.save('EEG_HMC_FeatureExtraction.xlsx')"
      ],
      "execution_count": null,
      "outputs": []
    },
    {
      "cell_type": "code",
      "metadata": {
        "colab": {
          "base_uri": "https://localhost:8080/"
        },
        "id": "QWrtvF6HHoum",
        "outputId": "2eb6900f-8ce8-4b7a-beba-6119dff29a01"
      },
      "source": [
        "raf(\"SN012\")"
      ],
      "execution_count": null,
      "outputs": [
        {
          "name": "stdout",
          "output_type": "stream",
          "text": [
            "*** No CODEPAGE record, no encoding_override: will use 'ascii'\n",
            "*** No CODEPAGE record, no encoding_override: will use 'ascii'\n",
            "*** No CODEPAGE record, no encoding_override: will use 'ascii'\n"
          ]
        }
      ]
    },
    {
      "cell_type": "code",
      "metadata": {
        "id": "BHBfa0wOucVt"
      },
      "source": [
        "talika=['2','3','4','5','6','7','8','9','10','12','13','14','15','18','19','20','21','22','23','24','25','26','27','28','29','30','31','33','34','35','36','37','38','39','40','41','43','44','45','46','47','49','50','51','52','53','54','55','57','59','60']\n",
        "raf(\"SN002\")\n"
      ],
      "execution_count": null,
      "outputs": []
    },
    {
      "cell_type": "code",
      "metadata": {
        "id": "PcsH4aru9s0A"
      },
      "source": [
        "talika=['02','03','04','05','06','07','08','09','10','12','13','14','15','18','19','20','21','22','23','24','25','26','27','28','29','30','31','33','34','35','36','37','38','39','40','41','43','44','45','46','47','49','50','51','52','53','54','55','57','59','60']\n",
        "for i in talika:\n",
        "  raf(\"SN0\"+i)"
      ],
      "execution_count": null,
      "outputs": []
    },
    {
      "cell_type": "code",
      "metadata": {
        "id": "8ZvyQbJDvK7Y"
      },
      "source": [
        "def show_row():\n",
        "  import xlrd\n",
        "  next_index = xlrd.open_workbook(\"/content/EEG_HMC_FeatureExtraction.xlsx\").sheet_by_index(0).nrows\n",
        "  return wb_2"
      ],
      "execution_count": null,
      "outputs": []
    },
    {
      "cell_type": "code",
      "metadata": {
        "colab": {
          "base_uri": "https://localhost:8080/"
        },
        "id": "TYcY2MRR0Uzz",
        "outputId": "cc9bf5c8-e167-45e2-dc33-5dda521a0f09"
      },
      "source": [
        "show_row()"
      ],
      "execution_count": null,
      "outputs": [
        {
          "data": {
            "text/plain": [
              "1712"
            ]
          },
          "execution_count": 52,
          "metadata": {},
          "output_type": "execute_result"
        }
      ]
    },
    {
      "cell_type": "markdown",
      "metadata": {
        "id": "GpbBevH60BFP"
      },
      "source": [
        "#working"
      ]
    },
    {
      "cell_type": "code",
      "metadata": {
        "id": "D0JXctsd0EzR"
      },
      "source": [
        "def raf1(subject):\n",
        "  import xlwt\n",
        "  import xlrd\n",
        "  from xlutils.copy import copy\n",
        "  \n",
        "  rb = xlrd.open_workbook('EEG_HMC_FeatureExtraction.xlsx')\n",
        "  wb2 = copy(rb)\n",
        "  w_sheet2 = wb2.get_sheet(0)\n",
        "\n",
        "  next_index = xlrd.open_workbook(\"/content/EEG_HMC_FeatureExtraction.xlsx\").sheet_by_index(0).nrows\n",
        "  sheet4 = xlrd.open_workbook(\"/content/content/sleep_scooring_xls/\"+subject+\"_sleepscoring.xls\").sheet_by_index(0)\n",
        "\n",
        "  wb = xlrd.open_workbook(\"/content/eeg analysis result/\"+subject+\"_CH1_F4.xls\")\n",
        "  sheet = wb.sheet_by_index(0)\n",
        "  row=sheet.nrows\n",
        "  col=sheet.ncols\n",
        "\n",
        "\n",
        "  #subject, epoc, sleeping score\n",
        "  i=next_index\n",
        "  l=1\n",
        "  for j in range(8,row):\n",
        "    if sheet.cell_value(j, 0)=='':\n",
        "        break\n",
        "    w_sheet2.write(i,0,subject)\n",
        "    w_sheet2.write(i,1,sheet4.cell_value(l, 0))\n",
        "    w_sheet2.write(i,2,sheet.cell_value(j, 0))\n",
        "    i=i+1\n",
        "    l=l+1\n",
        "\n",
        "\n",
        "  rfr=0\n",
        "  first=3\n",
        "  second=8\n",
        "  for i in range(1,16):\n",
        "    if (i==6):\n",
        "      wb = xlrd.open_workbook(\"/content/eeg analysis result/\"+subject+\"_CH2_C4.xls\")\n",
        "      sheet = wb.sheet_by_index(0)\n",
        "      row=sheet.nrows\n",
        "      col=sheet.ncols\n",
        "      rfr=0\n",
        "    elif (i==11):\n",
        "      wb = xlrd.open_workbook(\"/content/eeg analysis result/\"+subject+\"_CH3_O2.xls\")\n",
        "      sheet = wb.sheet_by_index(0)\n",
        "      row=sheet.nrows\n",
        "      col=sheet.ncols\n",
        "      rfr=0\n",
        "\n",
        "    new_rfr=rfr\n",
        "    rfc=1\n",
        "    for wfc in range(first,second):\n",
        "      wfr=next_index\n",
        "      rfr=new_rfr\n",
        "      for rfr in range(rfr+8,row):\n",
        "        if sheet.cell_value(rfr, 0)=='':\n",
        "          break\n",
        "        w_sheet2.write(wfr,wfc,sheet.cell_value(rfr, rfc))\n",
        "        wfr=wfr+1\n",
        "      rfc=rfc+1\n",
        "    first=second\n",
        "    second=second+5\n",
        "\n",
        "\n",
        "  wb2.save('EEG_HMC_FeatureExtraction.xlsx')"
      ],
      "execution_count": 1,
      "outputs": []
    },
    {
      "cell_type": "code",
      "metadata": {
        "id": "uI-0TsiKDShZ"
      },
      "source": [
        "talika=['02','03','04','05','06','07','08','09','10','13','14','15','18','19','20','21','22','23','24','25','26','27','28','29','30','31','33','34','35','36','37','38','39','40','41','43','44','45','46','49','50','51','52','53','54','55','57','59','60']\n",
        "\n",
        "for i in talika2:\n",
        "  raf1(\"SN0\"+i)\n",
        "  print(\"SN0\"+i+\" is completed!!!.........................\")"
      ],
      "execution_count": null,
      "outputs": []
    },
    {
      "cell_type": "code",
      "metadata": {
        "id": "I2pMVo9eIT0-"
      },
      "source": [
        "print(i)"
      ],
      "execution_count": null,
      "outputs": []
    },
    {
      "cell_type": "code",
      "metadata": {
        "id": "7JGdX8la-t21"
      },
      "source": [
        "import xlrd\n",
        "j=\"12\"\n",
        "subject=\"SN0\"+j\n",
        "sheet4 = xlrd.open_workbook(\"/content/content/sleep_scooring_xls/\"+subject+\"_sleepscoring.xls\").sheet_by_index(0)\n",
        "row=sheet4.nrows\n",
        "\n",
        "i=1;\n",
        "for j in range(1,row):\n",
        "  print(sheet4.cell_value(j, 0),j)\n",
        "\n",
        "  "
      ],
      "execution_count": null,
      "outputs": []
    }
  ]
}