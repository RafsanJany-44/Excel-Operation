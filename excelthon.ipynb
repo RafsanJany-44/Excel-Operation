{
  "nbformat": 4,
  "nbformat_minor": 0,
  "metadata": {
    "colab": {
      "name": "excelthon.ipynb",
      "provenance": [],
      "authorship_tag": "ABX9TyPDpY6Tmia/m6cGK7FBTSHN",
      "include_colab_link": true
    },
    "kernelspec": {
      "name": "python3",
      "display_name": "Python 3"
    },
    "language_info": {
      "name": "python"
    }
  },
  "cells": [
    {
      "cell_type": "markdown",
      "metadata": {
        "id": "view-in-github",
        "colab_type": "text"
      },
      "source": [
        "<a href=\"https://colab.research.google.com/github/RafsanJany-44/Excel-Operation/blob/main/excelthon.ipynb\" target=\"_parent\"><img src=\"https://colab.research.google.com/assets/colab-badge.svg\" alt=\"Open In Colab\"/></a>"
      ]
    },
    {
      "cell_type": "markdown",
      "metadata": {
        "id": "RtBlrtGgvrSs"
      },
      "source": [
        "#Writting excel file\n"
      ]
    },
    {
      "cell_type": "code",
      "metadata": {
        "id": "CiMdCQhQtUsA"
      },
      "source": [
        "import xlwt\n",
        "from xlwt import Workbook\n",
        "  \n",
        "# Workbook is created\n",
        "wb = Workbook()\n",
        "  \n",
        "# add_sheet is used to create sheet.\n",
        "sheet1 = wb.add_sheet('Sheet 1')\n",
        "  \n",
        "sheet1.write(1, 0, 'ISBT DEHRADUN')\n",
        "sheet1.write(2, 0, 'SHASTRADHARA')\n",
        "sheet1.write(3, 0, 'CLEMEN TOWN')\n",
        "sheet1.write(4, 0, 'RAJPUR ROAD')\n",
        "sheet1.write(5, 0, 'CLOCK TOWER')\n",
        "sheet1.write(0, 1, 'ISBT DEHRADUN')\n",
        "sheet1.write(0, 2, 'SHASTRADHARA')\n",
        "sheet1.write(0, 3, 'CLEMEN TOWN')\n",
        "sheet1.write(0, 4, 'RAJPUR ROAD')\n",
        "sheet1.write(0, 5, 'CLOCK TOWER')\n",
        "  \n",
        "wb.save('example.xls')"
      ],
      "execution_count": 2,
      "outputs": []
    },
    {
      "cell_type": "markdown",
      "metadata": {
        "id": "eMtTe3SzwKF2"
      },
      "source": [
        "#Reading form a EXCEL file\n"
      ]
    },
    {
      "cell_type": "code",
      "metadata": {
        "colab": {
          "base_uri": "https://localhost:8080/"
        },
        "id": "gil_lzcAwJJX",
        "outputId": "9e349935-f7e4-44d6-ad14-1e312440d41a"
      },
      "source": [
        "import xlrd\n",
        " \n",
        "# Give the location of the file\n",
        "loc = (\"example.xls\")\n",
        " \n",
        "# To open Workbook\n",
        "wb = xlrd.open_workbook(loc)\n",
        "sheet = wb.sheet_by_index(0)\n",
        " \n",
        "# For row 0 and column 0\n",
        "print(sheet.cell_value(1, 0))"
      ],
      "execution_count": 4,
      "outputs": [
        {
          "output_type": "stream",
          "name": "stdout",
          "text": [
            "ISBT DEHRADUN\n"
          ]
        }
      ]
    }
  ]
}